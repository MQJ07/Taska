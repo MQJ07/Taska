{
 "cells": [
  {
   "cell_type": "code",
   "execution_count": null,
   "id": "7f5e09ff",
   "metadata": {},
   "outputs": [],
   "source": [
    "#to separate images in to real and fake\n",
    "import os\n",
    "import shutil\n",
    "\n",
    "input_dir = \"E:/Internshp/fake/images_from_video_big\"\n",
    "output_dir_real = \"E:/Internshp/fake/test_dir/real\"\n",
    "output_dir_fake = \"E:\\Internshp/fake/test_dir/fake\"\n",
    "\n",
    "for filename in os.listdir(input_dir):\n",
    "    if filename.endswith('0.jpg'):\n",
    "        # real image\n",
    "        shutil.copy(os.path.join(input_dir, filename), output_dir_real)\n",
    "    elif filename.endswith('1.jpg'):\n",
    "        # fake image\n",
    "        shutil.copy(os.path.join(input_dir, filename), output_dir_fake)\n"
   ]
  },
  {
   "cell_type": "code",
   "execution_count": null,
   "id": "9e437290",
   "metadata": {},
   "outputs": [],
   "source": [
    "#spliiting data into training(60%),validation(20%) and testing(20%)\n",
    "import os\n",
    "import random\n",
    "import shutil\n",
    "\n",
    "# Define the path to the folder containing all the images\n",
    "data_dir = \"E:/Internshp/fake/realimgs\"\n",
    "\n",
    "# Define the paths to the three new folders where you want to split the images\n",
    "train_dir = \"E:/Internshp/fake/train_dir\"\n",
    "val_dir = \"E:/Internshp/fake/val_dir\"\n",
    "test_dir = \"E:/Internshp/fake/test_dir\"\n",
    "\n",
    "# Define the percentage split for train, validation, and test datasets\n",
    "train_pct = 0.6\n",
    "val_pct = 0.2\n",
    "test_pct = 0.2\n",
    "\n",
    "# Get the list of all image filenames\n",
    "filenames = os.listdir(data_dir)\n",
    "\n",
    "# Shuffle the filenames randomly\n",
    "random.shuffle(filenames)\n",
    "\n",
    "# Calculate the number of images for each split\n",
    "num_train = int(len(filenames) * train_pct)\n",
    "num_val = int(len(filenames) * val_pct)\n",
    "num_test = int(len(filenames) * test_pct)\n",
    "\n",
    "# Split the filenames into three lists for train, validation, and test\n",
    "train_filenames = filenames[:num_train]\n",
    "val_filenames = filenames[num_train:num_train+num_val]\n",
    "test_filenames = filenames[num_train+num_val:]\n",
    "\n",
    "# Create the new directories if they don't exist\n",
    "os.makedirs(train_dir, exist_ok=True)\n",
    "os.makedirs(val_dir, exist_ok=True)\n",
    "os.makedirs(test_dir, exist_ok=True)\n",
    "\n",
    "# Copy the images to the new directories based on their respective split\n",
    "for filename in train_filenames:\n",
    "    src_path = os.path.join(data_dir, filename)\n",
    "    dst_path = os.path.join(train_dir, filename)\n",
    "    shutil.copyfile(src_path, dst_path)\n",
    "\n",
    "for filename in val_filenames:\n",
    "    src_path = os.path.join(data_dir, filename)\n",
    "    dst_path = os.path.join(val_dir, filename)\n",
    "    shutil.copyfile(src_path, dst_path)\n",
    "\n",
    "for filename in test_filenames:\n",
    "    src_path = os.path.join(data_dir, filename)\n",
    "    dst_path = os.path.join(test_dir, filename)\n",
    "    shutil.copyfile(src_path, dst_path)\n"
   ]
  },
  {
   "cell_type": "code",
   "execution_count": 70,
   "id": "18ef13fd",
   "metadata": {},
   "outputs": [],
   "source": [
    "import tensorflow as tf\n",
    "from tensorflow.keras.preprocessing.image import ImageDataGenerator\n",
    "\n",
    "# Define the directories for the training, validation, and test data\n",
    "train_dir = \"E:/Internshp/fake/train_dir\"\n",
    "val_dir = \"E:/Internshp/fake/val_dir\"\n",
    "test_dir = \"E:/Internshp/fake/test_dir\"\n"
   ]
  },
  {
   "cell_type": "code",
   "execution_count": 71,
   "id": "e3f16755",
   "metadata": {},
   "outputs": [],
   "source": [
    "# Define the image dimensions and batch size\n",
    "height = 224\n",
    "width = 224\n",
    "channels = 3\n",
    "batch_size = 32"
   ]
  },
  {
   "cell_type": "code",
   "execution_count": 72,
   "id": "61565db7",
   "metadata": {},
   "outputs": [
    {
     "name": "stdout",
     "output_type": "stream",
     "text": [
      "Found 49572 images belonging to 2 classes.\n"
     ]
    }
   ],
   "source": [
    "# Define the training, validation, and test data generators\n",
    "train_datagen = ImageDataGenerator(rescale=1./255)\n",
    "train_generator = train_datagen.flow_from_directory(train_dir,\n",
    "                                                    target_size=(height, width),\n",
    "                                                    batch_size=batch_size,\n",
    "                                                    class_mode='binary')"
   ]
  },
  {
   "cell_type": "code",
   "execution_count": 73,
   "id": "518db5e3",
   "metadata": {},
   "outputs": [
    {
     "name": "stdout",
     "output_type": "stream",
     "text": [
      "Found 16523 images belonging to 2 classes.\n"
     ]
    }
   ],
   "source": [
    "val_datagen = ImageDataGenerator(rescale=1./255)\n",
    "val_generator = val_datagen.flow_from_directory(val_dir,\n",
    "                                                target_size=(height, width),\n",
    "                                                batch_size=batch_size,\n",
    "                                                class_mode='binary')\n"
   ]
  },
  {
   "cell_type": "code",
   "execution_count": 74,
   "id": "cc085c00",
   "metadata": {},
   "outputs": [
    {
     "name": "stdout",
     "output_type": "stream",
     "text": [
      "Found 16526 images belonging to 2 classes.\n"
     ]
    }
   ],
   "source": [
    "test_datagen = ImageDataGenerator(rescale=1./255)\n",
    "test_generator = test_datagen.flow_from_directory(test_dir,\n",
    "                                                   target_size=(height, width),\n",
    "                                                   batch_size=batch_size,\n",
    "                                                   class_mode='binary')"
   ]
  },
  {
   "cell_type": "code",
   "execution_count": 75,
   "id": "d0e35b8c",
   "metadata": {},
   "outputs": [],
   "source": [
    "# Define the model\n",
    "model = tf.keras.Sequential([\n",
    "    tf.keras.layers.Conv2D(32, (3, 3), activation='relu', input_shape=(height, width, channels)),\n",
    "    tf.keras.layers.MaxPooling2D((2, 2)),\n",
    "    tf.keras.layers.Conv2D(64, (3, 3), activation='relu'),\n",
    "    tf.keras.layers.MaxPooling2D((2, 2)),\n",
    "    tf.keras.layers.Conv2D(128, (3, 3), activation='relu'),\n",
    "    tf.keras.layers.MaxPooling2D((2, 2)),\n",
    "    tf.keras.layers.Flatten(),\n",
    "    tf.keras.layers.Dense(128, activation='relu'),\n",
    "    tf.keras.layers.Dense(1, activation='sigmoid')])"
   ]
  },
  {
   "cell_type": "code",
   "execution_count": 76,
   "id": "e0ca655b",
   "metadata": {},
   "outputs": [],
   "source": [
    "# Compile the model\n",
    "model.compile(optimizer='adam', loss='binary_crossentropy', metrics=['accuracy'])"
   ]
  },
  {
   "cell_type": "code",
   "execution_count": 77,
   "id": "66e90fa5",
   "metadata": {},
   "outputs": [
    {
     "name": "stdout",
     "output_type": "stream",
     "text": [
      "Epoch 1/10\n",
      "1550/1550 [==============================] - 1585s 1s/step - loss: 0.6075 - accuracy: 0.6750 - val_loss: 0.5567 - val_accuracy: 0.7036\n",
      "Epoch 2/10\n",
      "1550/1550 [==============================] - 1582s 1s/step - loss: 0.5279 - accuracy: 0.7258 - val_loss: 0.5856 - val_accuracy: 0.6973\n",
      "Epoch 3/10\n",
      "1550/1550 [==============================] - 1542s 995ms/step - loss: 0.4507 - accuracy: 0.7771 - val_loss: 0.4781 - val_accuracy: 0.7642\n",
      "Epoch 4/10\n",
      "1550/1550 [==============================] - 1532s 988ms/step - loss: 0.3390 - accuracy: 0.8445 - val_loss: 0.5187 - val_accuracy: 0.7598\n",
      "Epoch 5/10\n",
      "1550/1550 [==============================] - 1559s 1s/step - loss: 0.2070 - accuracy: 0.9132 - val_loss: 0.5865 - val_accuracy: 0.7707\n",
      "Epoch 6/10\n",
      "1550/1550 [==============================] - 1552s 1s/step - loss: 0.1104 - accuracy: 0.9575 - val_loss: 0.7232 - val_accuracy: 0.7869\n"
     ]
    }
   ],
   "source": [
    "# Train the model\n",
    "history = model.fit(train_generator, epochs=10, validation_data=val_generator,\n",
    "                    callbacks=[tf.keras.callbacks.EarlyStopping(patience=3),\n",
    "                               tf.keras.callbacks.ModelCheckpoint('model.h5', save_best_only=True)])\n"
   ]
  },
  {
   "cell_type": "code",
   "execution_count": 78,
   "id": "7ac49bb7",
   "metadata": {},
   "outputs": [
    {
     "name": "stdout",
     "output_type": "stream",
     "text": [
      "517/517 [==============================] - 159s 307ms/step - loss: 0.7285 - accuracy: 0.7828\n",
      "Test accuracy: 0.7827665209770203\n"
     ]
    }
   ],
   "source": [
    "# Evaluate the model on the test data\n",
    "test_loss, test_acc = model.evaluate(test_generator)\n",
    "print('Test accuracy:', test_acc)"
   ]
  },
  {
   "cell_type": "code",
   "execution_count": 81,
   "id": "4f48165c",
   "metadata": {},
   "outputs": [
    {
     "data": {
      "image/png": "[encoded data removed]",
      "text/plain": [
       "<Figure size 432x288 with 1 Axes>"
      ]
     },
     "metadata": {
      "needs_background": "light"
     },
     "output_type": "display_data"
    },
    {
     "data": {
      "image/png": "[encoded data removed]",
      "text/plain": [
       "<Figure size 432x288 with 1 Axes>"
      ]
     },
     "metadata": {
      "needs_background": "light"
     },
     "output_type": "display_data"
    }
   ],
   "source": [
    "import matplotlib.pyplot as plt\n",
    "\n",
    "\n",
    "\n",
    "# Plot the training and validation accuracy values\n",
    "plt.plot(history.history['accuracy'])\n",
    "plt.plot(history.history['val_accuracy'])\n",
    "plt.title('Model accuracy')\n",
    "plt.ylabel('Accuracy')\n",
    "plt.xlabel('Epoch')\n",
    "plt.legend(['Train', 'Val'], loc='lower right')\n",
    "plt.show()\n",
    "\n",
    "# Plot the training and validation loss values\n",
    "plt.plot(history.history['loss'])\n",
    "plt.plot(history.history['val_loss'])\n",
    "plt.title('Model loss')\n",
    "plt.ylabel('Loss')\n",
    "plt.xlabel('Epoch')\n",
    "plt.legend(['Train', 'Val'], loc='upper right')\n",
    "plt.show()\n"
   ]
  },
  {
   "cell_type": "code",
   "execution_count": null,
   "id": "dcbc72c7",
   "metadata": {},
   "outputs": [],
   "source": []
  },
  {
   "cell_type": "code",
   "execution_count": null,
   "id": "ed7c98e6",
   "metadata": {},
   "outputs": [],
   "source": []
  }
 ],
 "metadata": {
  "kernelspec": {
   "display_name": "Python 3 (ipykernel)",
   "language": "python",
   "name": "python3"
  },
  "language_info": {
   "codemirror_mode": {
    "name": "ipython",
    "version": 3
   },
   "file_extension": ".py",
   "mimetype": "text/x-python",
   "name": "python",
   "nbconvert_exporter": "python",
   "pygments_lexer": "ipython3",
   "version": "3.9.12"
  }
 },
 "nbformat": 4,
 "nbformat_minor": 5
}
